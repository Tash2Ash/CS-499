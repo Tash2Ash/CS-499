{
 "cells": [
  {
   "cell_type": "code",
   "execution_count": 44,
   "metadata": {
    "scrolled": false
   },
   "outputs": [
    {
     "name": "stdout",
     "output_type": "stream",
     "text": [
      "Animal has been added.\n",
      "{'Breed': 'Corgi', 'Name': 'Peanut', 'Age': '6 years', 'Type': 'Dog', '_id': ObjectId('61fc7649b0d1b9855cbe067b')}\n"
     ]
    }
   ],
   "source": [
    "from AnimalShelter import AnimalShelter\n",
    "# credentials for log in\n",
    "log_in = AnimalShelter('aacuser','Coffeebean')\n",
    "# enter data to be tested\n",
    "data = {'Breed':'Corgi', 'Name':'Peanut', 'Age':'6 years', 'Type':'Dog'}\n",
    "\n",
    "# create method test\n",
    "if log_in.create(data):\n",
    "   print('Animal has been added.')\n",
    "else:\n",
    "   print('Animal has not added, try again.')\n",
    "   \n",
    "# read method test\n",
    "animals = log_in.read({'Name':'Peanut'})\n",
    "print(data)"
   ]
  },
  {
   "cell_type": "code",
   "execution_count": 12,
   "metadata": {},
   "outputs": [
    {
     "name": "stdout",
     "output_type": "stream",
     "text": [
      "{'_id': ObjectId('61f6ff2125fb235aeaae961b'), 'Breed': 'Corgi', 'Age': '6 years', 'Type': 'Dog'}\n"
     ]
    }
   ],
   "source": [
    "animals = log_in.read({'Age':'6 years'})\n",
    "print(animals)"
   ]
  },
  {
   "cell_type": "code",
   "execution_count": 45,
   "metadata": {},
   "outputs": [
    {
     "name": "stdout",
     "output_type": "stream",
     "text": [
      "Animal has been added.\n",
      "{'Breed': 'Corgi', 'Name': 'Peanut', 'Age': '2 years', 'Type': 'Dog', '_id': ObjectId('61fc7688b0d1b9855cbe067d')}\n",
      "Entry has been updated.\n",
      "{'$set': {'Breed': 'Weimer', 'Name': 'Neela', 'Age': '3 years', 'Type': 'Dog'}}\n",
      "Entry has been deleted.\n"
     ]
    }
   ],
   "source": [
    "from AnimalShelter import AnimalShelter\n",
    "# use aacuser log in\n",
    "log_in = AnimalShelter('aacuser','Coffeebean')\n",
    "# enter random data to test\n",
    "data = {'Breed':'Corgi', 'Name':'Peanut', 'Age':'2 years', 'Type':'Dog'}\n",
    "data_new = {'$set': {'Breed':'Weimer', 'Name':'Neela', 'Age':'3 years', 'Type':'Dog'}}\n",
    "del_data = {'Age':'2 years', 'Type':'Dog'}\n",
    "\n",
    "#test create method\n",
    "if log_in.create(data):\n",
    "   print('Animal has been added.')\n",
    "else:\n",
    "   raise Exception('Entry not added, please try again.')\n",
    "   \n",
    "#test read method\n",
    "animals = log_in.read({'Name':'Peanut'})\n",
    "print(data)\n",
    "\n",
    "#test update method\n",
    "if log_in.update(data, data_new):\n",
    "   print('Entry has been updated.')\n",
    "   print(data_new)\n",
    "else:\n",
    "   raise Exception('Entry not updated, please try again.')\n",
    "  \n",
    "# test delete method\n",
    "if log_in.delete(del_data):\n",
    "   print('Entry has been deleted.')\n",
    "else: \n",
    "   raise Exception('Entry not deleted, please try again.')"
   ]
  }
 ],
 "metadata": {
  "kernelspec": {
   "display_name": "Python 3",
   "language": "python",
   "name": "python3"
  },
  "language_info": {
   "codemirror_mode": {
    "name": "ipython",
    "version": 3
   },
   "file_extension": ".py",
   "mimetype": "text/x-python",
   "name": "python",
   "nbconvert_exporter": "python",
   "pygments_lexer": "ipython3",
   "version": "3.6.9"
  }
 },
 "nbformat": 4,
 "nbformat_minor": 2
}
